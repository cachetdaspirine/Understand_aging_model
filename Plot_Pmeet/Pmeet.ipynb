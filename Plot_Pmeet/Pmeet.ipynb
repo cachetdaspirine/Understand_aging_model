{
 "cells": [
  {
   "cell_type": "code",
   "execution_count": 99,
   "metadata": {},
   "outputs": [],
   "source": [
    "from scipy.integrate import quad\n",
    "import numpy as np\n",
    "import matplotlib.pyplot as plt\n",
    "from matplotlib.colors import LogNorm\n",
    "\n",
    "# Constants\n",
    "L = 100.0\n",
    "R_left = np.array([0.0, 0.0])\n",
    "R_right = np.array([50.0, 00.0])\n",
    "a = 1.0\n",
    "b = 1.0\n",
    "\n",
    "# Function P(r,l) to be integrated over l\n",
    "def P_r_l(l,r):\n",
    "    x, y = r\n",
    "    R = np.array([x, y])\n",
    "    norm_R_left = np.linalg.norm(R_left - R)\n",
    "    norm_R_right = np.linalg.norm(R_right - R)\n",
    "    if norm_R_left > L or norm_R_right>L:\n",
    "        return 0.\n",
    "    norm_R_lr = np.linalg.norm(R_left - R_right)\n",
    "\n",
    "    # Avoid division by zero by adding a small offset from 0 and L\n",
    "    if l == 0.0:\n",
    "        l += 1e-10\n",
    "    elif l == L:\n",
    "        l -= 1e-10\n",
    "\n",
    "    term1 = ((3 / (2 * np.pi)) ** (3 / 2)) * ((L * b ** (4 / 3)) / (l * (L - l) * a ** (1 / 3))) ** (3 / 2)\n",
    "    term2 = np.exp(-3 / 2 * ((norm_R_left ** 2 / (l * a)) + (norm_R_right ** 2 / ((L - l) * a))))\n",
    "    term3 = np.exp(3 / 2 * (norm_R_lr ** 2 / (L * a)))\n",
    "    \n",
    "    return (1 / L) * term1 * term2 * term3\n",
    "\n"
   ]
  },
  {
   "cell_type": "code",
   "execution_count": 100,
   "metadata": {},
   "outputs": [],
   "source": [
    "# Limits for the numerical integration (avoiding 0 and L)\n",
    "epsilon = 1e-5\n",
    "l_limits = (epsilon, L - epsilon)\n",
    "\n",
    "# Define grid for r values\n",
    "a = 1.  # Number of points in the grid\n",
    "#x = np.linspace(-50, 100, grid_points)\n",
    "#y = np.linspace(-110,110, grid_points)\n",
    "x = np.arange(-20, 70, a)\n",
    "y = np.arange(-20,20, a)\n",
    "\n",
    "# Create a meshgrid for x and y\n",
    "X, Y = np.meshgrid(x, y)\n",
    "\n",
    "# Initialize an array to store the values of P(r)\n",
    "P_r_values = np.zeros_like(X)\n",
    "\n",
    "# Perform the numerical integration for each point in the grid\n",
    "for i in range(P_r_values.shape[0]):\n",
    "    for j in range(P_r_values.shape[1]):\n",
    "        r = (X[i, j], Y[i, j])\n",
    "        P_r_values[i, j], _ = quad(P_r_l, *l_limits, args=(r,))\n",
    "        #P_r_values[i, j] = P_r_l(100,r)\n"
   ]
  },
  {
   "cell_type": "code",
   "execution_count": 101,
   "metadata": {},
   "outputs": [
    {
     "name": "stdout",
     "output_type": "stream",
     "text": [
      "1.0000000000000004\n"
     ]
    }
   ],
   "source": [
    "P_r_values = P_r_values/np.sum(P_r_values)\n",
    "print(np.sum(P_r_values))"
   ]
  },
  {
   "cell_type": "code",
   "execution_count": 107,
   "metadata": {},
   "outputs": [
    {
     "data": {
      "image/png": "[encoded data removed]",
      "text/plain": [
       "<Figure size 600x400 with 2 Axes>"
      ]
     },
     "metadata": {},
     "output_type": "display_data"
    }
   ],
   "source": [
    "# Plotting the colormap\n",
    "plt.figure(figsize=(6, 4))\n",
    "cp = plt.pcolormesh(X, Y, P_r_values, norm=LogNorm(vmin = 10**-6,vmax = 10**-3),shading='auto')\n",
    "#cp = plt.pcolormesh(X, Y, P_r_values,norm=LogNorm(),shading='auto')\n",
    "plt.scatter([0.,50.],[0.,0.])\n",
    "plt.colorbar(cp)\n",
    "plt.title('Log-scaled Colormap of P(r)')\n",
    "plt.xlabel('x')\n",
    "plt.ylabel('y')\n",
    "#plt.xlim(-10,60)\n",
    "#plt.ylim(-10,10)\n",
    "plt.show()"
   ]
  },
  {
   "cell_type": "code",
   "execution_count": null,
   "metadata": {},
   "outputs": [],
   "source": []
  }
 ],
 "metadata": {
  "kernelspec": {
   "display_name": "base",
   "language": "python",
   "name": "python3"
  },
  "language_info": {
   "codemirror_mode": {
    "name": "ipython",
    "version": 3
   },
   "file_extension": ".py",
   "mimetype": "text/x-python",
   "name": "python",
   "nbconvert_exporter": "python",
   "pygments_lexer": "ipython3",
   "version": "3.8.8"
  }
 },
 "nbformat": 4,
 "nbformat_minor": 2
}
